{
 "cells": [
  {
   "cell_type": "markdown",
   "metadata": {},
   "source": [
    "# Identification of a Model"
   ]
  },
  {
   "cell_type": "code",
   "execution_count": 1,
   "metadata": {
    "collapsed": false,
    "jupyter": {
     "outputs_hidden": false
    }
   },
   "outputs": [],
   "source": [
    "%matplotlib inline\n",
    "\n",
    "import pylab\n",
    "import numpy as np\n",
    "import matplotlib.pyplot as plt\n",
    "from matplotlib import rc\n",
    "from simcoon import simmit as sim\n",
    "from scipy.interpolate import griddata\n",
    "from mpl_toolkits.mplot3d import Axes3D\n",
    "import os\n",
    "from IPython.display import HTML\n",
    "dir = os.path.dirname(os.path.realpath('__file__'))\n",
    "\n",
    "plt.rc('text', usetex=True)\n",
    "plt.rc('font', family='serif')"
   ]
  },
  {
   "cell_type": "markdown",
   "metadata": {},
   "source": [
    "In this Python Notebook we will show how to properly identify the material properties of a constitutive law (Chaboche) for cyclic plasticity\n",
    "\n",
    "Such identification procedure require:\n",
    "1. Proper experimental data\n",
    "2. A proper numerical model (here a composite model for laminate constitutive model)\n",
    "3. An identification strategy\n"
   ]
  },
  {
   "cell_type": "markdown",
   "metadata": {
    "nteract": {
     "transient": {
      "deleting": false
     }
    }
   },
   "source": [
    "The Chaboche elastic-plastic (isotropic with kinematical hardening) constitutive law implemented in simcoon is a rate independent, isotropic, von Mises type material with exponential law isotropic hardening and two non-linear kinematical hardening:\n",
    "Ten parameters are required for the thermomechanical version: \n",
    "\n",
    "1. The Young modulus $E$,\n",
    "2. The Poisson ratio $\\nu$,\n",
    "3. The coefficient of thermal expansion $\\alpha$,\n",
    "4. The von Mises equivalent yield stress limit $\\sigma_{Y}$,\n",
    "5. The activation hardening term $Q$,\n",
    "6. The coefficient of isotropic hardening $b$,\n",
    "7. The kinematical hardening coefficient $C_1$, \n",
    "8. The hardening accomodation parameter $D_1$\n",
    "9. The kinematical hardening coefficient $C_2$, \n",
    "10. The hardening accomodation parameter $D_2$\n",
    "\n",
    "The constitutive law is given by the set of equations :\n",
    "\n",
    "$$\n",
    "\\dot{\\varepsilon}^{\\textrm{p}}_{ij}=\\dot{p}\\Lambda_{ij}, \\quad \\Lambda^{1}_{ij}=\\frac{3}{2}\\frac{\\sigma'_{ij} - X_{ij}}{\\lvert \\mathbf{\\sigma'} - \\mathbf{X} \\rvert} - D_1\\,a^{1}_{ij}, \\quad \\Lambda^{1}_{ij}=\\frac{3}{2}\\frac{\\sigma'_{ij} - X_{ij}}{\\lvert \\mathbf{\\sigma'} - \\mathbf{X} \\rvert} - D_2\\,a^{2}_{ij}\n",
    "$$\n",
    "\n",
    "$$\n",
    "\\sigma'_{ij}=\\sigma_{ij}-\\frac{1}{3}\\sigma_{kk} \\delta_{ij}\n",
    "$$\n",
    "\n",
    "$$\n",
    "{\\sigma}_{ij}=L_{ijkl}\\left({\\varepsilon}^{\\textrm{tot}}_{kl}-\\alpha_{kl}\\left(T-T^{\\textrm{ref}}\\right)-{\\varepsilon}^{\\textrm{p}}_{kl}\\right)\n",
    "$$\n",
    "\n",
    "$$\n",
    "\\dot{\\mathbf{a}}^1 = \\dot{p}\\,\\mathbf{\\Lambda}^{1}\n",
    "\\dot{\\mathbf{X}}^1 = C_1 \\quad \\frac{2}{3} \\dot{p} \\mathbf{\\Lambda}^{1}\n",
    "$$\n",
    "\n",
    "$$\n",
    "\\dot{\\mathbf{a}}^2 = \\dot{p}\\,\\mathbf{\\Lambda}^{1}\n",
    "\\dot{\\mathbf{X}}^2 = C_2 \\quad \\frac{2}{3} \\dot{p} \\mathbf{\\Lambda}^{1}\n",
    "$$"
   ]
  },
  {
   "cell_type": "code",
   "execution_count": 2,
   "metadata": {
    "collapsed": false,
    "jupyter": {
     "outputs_hidden": false
    }
   },
   "outputs": [
    {
     "ename": "AttributeError",
     "evalue": "module 'simcoon.simmit' has no attribute 'identification'",
     "output_type": "error",
     "traceback": [
      "\u001b[0;31m---------------------------------------------------------------------------\u001b[0m",
      "\u001b[0;31mAttributeError\u001b[0m                            Traceback (most recent call last)",
      "Cell \u001b[0;32mIn[2], line 28\u001b[0m\n\u001b[1;32m     25\u001b[0m materialfile \u001b[38;5;241m=\u001b[39m \u001b[38;5;124m'\u001b[39m\u001b[38;5;124mmaterial.dat\u001b[39m\u001b[38;5;124m'\u001b[39m\n\u001b[1;32m     26\u001b[0m simul_type \u001b[38;5;241m=\u001b[39m \u001b[38;5;124m'\u001b[39m\u001b[38;5;124mSOLVE\u001b[39m\u001b[38;5;124m'\u001b[39m\n\u001b[0;32m---> 28\u001b[0m sim\u001b[38;5;241m.\u001b[39midentification(simul_type,n_param,n_consts,nfiles,ngen,aleaspace,apop,ngboys,maxpop,path_data,path_keys,path_results,materialfile,outputfile)\n",
      "\u001b[0;31mAttributeError\u001b[0m: module 'simcoon.simmit' has no attribute 'identification'"
     ]
    }
   ],
   "source": [
    "#Number_of_parameters\n",
    "n_param = 7\n",
    "#Number_of_consts\n",
    "n_consts = 0\n",
    "#Number_of_files\n",
    "nfiles = 3\n",
    "\n",
    "#Number_of_generations\n",
    "ngen =  20\n",
    "#Aleatory/Mesh space population : 0=mesh 1=meshlimit 2=random 3=defined\n",
    "aleaspace = 2\n",
    "#Space or aleatory population : apop in case of aleatory, spop in case of mesh\n",
    "apop = 20\n",
    "#Number of \"doped\" individual\n",
    "ngboys = 1\n",
    "#Max population per subgeneration\n",
    "maxpop = 10\n",
    "#Stationnary condition\n",
    "#stationnary_cond = 10\n",
    "\n",
    "path_data = dir + '/data'\n",
    "path_keys = dir + '/keys'\n",
    "path_results = dir + '/results'\n",
    "outputfile = 'id_params.txt'\n",
    "materialfile = 'material.dat'\n",
    "simul_type = 'SOLVE'\n",
    "\n",
    "sim.identification(simul_type,n_param,n_consts,nfiles,ngen,aleaspace,apop,ngboys,maxpop,path_data,path_keys,path_results,materialfile,outputfile)\n"
   ]
  },
  {
   "cell_type": "code",
   "execution_count": null,
   "metadata": {},
   "outputs": [],
   "source": [
    "fig = plt.figure()\n",
    "path = os.path.dirname(os.path.realpath('__file__')) + '/results/'\n",
    "pylab.rcParams['figure.figsize'] = (24.0, 12.0) #configure the figure output size\n",
    "\n",
    "pcs = ['1', '15', '2']\n",
    "#valid = data_path + 'valid.txt'\n",
    "e11num = []\n",
    "s11num = []\n",
    "\n",
    "for i in range(1,4):\n",
    "    PL = path + 'simul_' + str(i) + '.txt'\n",
    "    e11num_i, s11num_i = np.loadtxt(PL, usecols=(8,14), unpack=True)\n",
    "    e11num.append(e11num_i)\n",
    "    s11num.append(s11num_i)\n",
    "\n",
    "path = os.path.dirname(os.path.realpath('__file__')) + '/exp_data/'\n",
    "\n",
    "ax = plt.subplot(1,1,1)\n",
    "plt.grid(True)\n",
    "plt.tick_params(axis='both', which='major', labelsize=15)\n",
    "plt.xlabel(r'Strain ($\\varepsilon$)', size = 15)\n",
    "plt.ylabel(r'Stress ($\\sigma$, MPa)', size = 15)\n",
    "\n",
    "for p in pcs:\n",
    "    P_global = path + 'exp_file_' + p + '.txt'\n",
    "    e11exp_i, s11exp_i = np.loadtxt(P_global, usecols=(2,3), unpack=True, skiprows=1)\n",
    "    plt.plot(e11exp_i, s11exp_i, c='black', ls = '--', label = 'experiment - ' + p)\n",
    "    plt.plot(e11num[pcs.index(p)], s11num[pcs.index(p)], c='black', label = 'model')\n",
    "\n",
    "#plt.xlim(330,350)\n",
    "#plt.ylim(0.09,0.095)\n",
    "plt.legend(loc=2)\n",
    "\n",
    "path = os.path.dirname(os.path.realpath('__file__')) + '/results/'\n",
    "file = 'Figure_results.pdf'\n",
    "pp = path + file\n",
    "plt.savefig(pp, format='pdf')\n",
    "plt.show()"
   ]
  },
  {
   "cell_type": "code",
   "execution_count": null,
   "metadata": {
    "collapsed": true,
    "jupyter": {
     "outputs_hidden": true
    }
   },
   "outputs": [],
   "source": []
  }
 ],
 "metadata": {
  "kernelspec": {
   "display_name": "simcoon",
   "language": "python",
   "name": "simcoon"
  },
  "language_info": {
   "codemirror_mode": {
    "name": "ipython",
    "version": 3
   },
   "file_extension": ".py",
   "mimetype": "text/x-python",
   "name": "python",
   "nbconvert_exporter": "python",
   "pygments_lexer": "ipython3",
   "version": "3.11.8"
  },
  "nteract": {
   "version": "0.28.0"
  }
 },
 "nbformat": 4,
 "nbformat_minor": 4
}
